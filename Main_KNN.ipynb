{
  "nbformat": 4,
  "nbformat_minor": 0,
  "metadata": {
    "colab": {
      "name": "Main_KNN",
      "provenance": [],
      "collapsed_sections": []
    },
    "kernelspec": {
      "name": "python3",
      "display_name": "Python 3"
    },
    "language_info": {
      "name": "python"
    }
  },
  "cells": [
    {
      "cell_type": "markdown",
      "metadata": {
        "id": "KQKqiWawvxsp"
      },
      "source": [
        "# Implementing KNN on MNIST data set"
      ]
    },
    {
      "cell_type": "markdown",
      "metadata": {
        "id": "7ad5aLFP5EjR"
      },
      "source": [
        "###this code imports mnist data set and divide them into train and test samples  "
      ]
    },
    {
      "cell_type": "code",
      "metadata": {
        "id": "BvVauIOO4vr7",
        "colab": {
          "base_uri": "https://localhost:8080/"
        },
        "outputId": "fc0f2ff6-0cfc-4e70-bf69-1387d247edc8"
      },
      "source": [
        "from keras.datasets import mnist\n",
        "from matplotlib import pyplot\n",
        "\n",
        "(train_X, train_y), (test_X, test_y) = mnist.load_data()\n",
        "type(train_y)\n",
        "#print(train_X[0])"
      ],
      "execution_count": 1,
      "outputs": [
        {
          "output_type": "stream",
          "text": [
            "Downloading data from https://storage.googleapis.com/tensorflow/tf-keras-datasets/mnist.npz\n",
            "11493376/11490434 [==============================] - 0s 0us/step\n",
            "11501568/11490434 [==============================] - 0s 0us/step\n"
          ],
          "name": "stdout"
        },
        {
          "output_type": "execute_result",
          "data": {
            "text/plain": [
              "numpy.ndarray"
            ]
          },
          "metadata": {
            "tags": []
          },
          "execution_count": 1
        }
      ]
    },
    {
      "cell_type": "markdown",
      "metadata": {
        "id": "txDoH01fDAjO"
      },
      "source": [
        "###function to find euclidean distance between two images "
      ]
    },
    {
      "cell_type": "code",
      "metadata": {
        "id": "jpQLDbJpErK4"
      },
      "source": [
        "import math \n",
        "\n",
        "def euclideandistance(testdata , traindata ):\n",
        "    distance = 0\n",
        "    for x in range(28):\n",
        "       for y in range(28):\n",
        "         distance += pow((testdata[x][y] - traindata[x][y]),2)\n",
        "    return math.sqrt(distance)"
      ],
      "execution_count": 3,
      "outputs": []
    },
    {
      "cell_type": "markdown",
      "metadata": {
        "id": "x30djjZYUd_0"
      },
      "source": [
        "###function to determine nearest neighbours "
      ]
    },
    {
      "cell_type": "code",
      "metadata": {
        "id": "K8i5L5VXUnok",
        "colab": {
          "base_uri": "https://localhost:8080/"
        },
        "outputId": "e16e09f3-d94e-4950-c516-a64265b27330"
      },
      "source": [
        "import operator\n",
        "\n",
        "def getneighbours (trainset, test, k):\n",
        "    distance = []\n",
        "    for x in range(len(trainset)):\n",
        "        dist = euclideandistance (test, trainset[x])\n",
        "        distance.append((x,dist))\n",
        "    distance.sort(key = operator.itemgetter(1))\n",
        "    neighbours = []\n",
        "    for x in range(k):\n",
        "        neighbours.append(distance[x][0])\n",
        "    return(neighbours)\n",
        "\n",
        "mannn = getneighbours(train_X[0:600], test_X[1],3)\n",
        "\n",
        "print(mannn)\n",
        "\n",
        "  "
      ],
      "execution_count": 6,
      "outputs": [
        {
          "output_type": "stream",
          "text": [
            "/usr/local/lib/python3.7/dist-packages/ipykernel_launcher.py:7: RuntimeWarning: overflow encountered in ubyte_scalars\n",
            "  import sys\n"
          ],
          "name": "stderr"
        },
        {
          "output_type": "stream",
          "text": [
            "[360, 400, 494]\n"
          ],
          "name": "stdout"
        }
      ]
    },
    {
      "cell_type": "markdown",
      "metadata": {
        "id": "5mePTIEQeHKe"
      },
      "source": [
        "###function to determine final result "
      ]
    },
    {
      "cell_type": "code",
      "metadata": {
        "id": "I5rQLQ1e0Q7J"
      },
      "source": [
        "from collections import Counter\n",
        "\n",
        "def result(neighbours): \n",
        "    digits = []\n",
        "    for x in range(len(neighbours)):\n",
        "        digits.append(train_y[neighbours[x]])\n",
        "    c = Counter(digits) \n",
        "    d = c.most_common() \n",
        "    return((d[0][0]))"
      ],
      "execution_count": 7,
      "outputs": []
    },
    {
      "cell_type": "markdown",
      "metadata": {
        "id": "Y-iG2sd19PFh"
      },
      "source": [
        "### function for accuracy"
      ]
    },
    {
      "cell_type": "code",
      "metadata": {
        "id": "8YvbtaT89OEu"
      },
      "source": [
        "def accuracy ( testset, predicted):\n",
        "    correct =0\n",
        "    for x in range(len(testset)):\n",
        "        if testset[x] == predicted[x]:\n",
        "            correct += 1\n",
        "        #print(repr(correct))\n",
        "        #print(len(testset))\n",
        "    return ((correct)/(len(testset))) * 100"
      ],
      "execution_count": 8,
      "outputs": []
    },
    {
      "cell_type": "markdown",
      "metadata": {
        "id": "ZS_aaW2j_HP5"
      },
      "source": [
        "###main"
      ]
    },
    {
      "cell_type": "code",
      "metadata": {
        "id": "wVUK26S-_KPN",
        "colab": {
          "base_uri": "https://localhost:8080/"
        },
        "outputId": "378212fe-41c1-4993-b88f-4089ede00540"
      },
      "source": [
        "def main():\n",
        "    predicted = []\n",
        "    k = 5\n",
        "    numberoftestcases = 10\n",
        "    for x in range(601, 601 + numberoftestcases):\n",
        "        neighbour = getneighbours(train_X[0:60], test_X[x], k)\n",
        "        #print(neighbour)\n",
        "        result1 = result(neighbour)\n",
        "        #print('result = ' + repr(result1))\n",
        "        predicted.append(result1)\n",
        "        #print(predicted)\n",
        "        print('predicted = ' + repr(result1) + ', actual = ' + repr(test_y[x]))\n",
        "        #print(test_y[:1])\n",
        "        #print(predicted)\n",
        "    accuracy1 = accuracy(test_y[601:601 + numberoftestcases], predicted)\n",
        "    print ('accuracy is = ' + repr(accuracy1))\n",
        "main()\n"
      ],
      "execution_count": 12,
      "outputs": [
        {
          "output_type": "stream",
          "text": [
            "/usr/local/lib/python3.7/dist-packages/ipykernel_launcher.py:7: RuntimeWarning: overflow encountered in ubyte_scalars\n",
            "  import sys\n"
          ],
          "name": "stderr"
        },
        {
          "output_type": "stream",
          "text": [
            "predicted = 1, actual = 8\n",
            "predicted = 0, actual = 6\n",
            "predicted = 8, actual = 8\n",
            "predicted = 8, actual = 5\n",
            "predicted = 9, actual = 7\n",
            "predicted = 8, actual = 8\n",
            "predicted = 6, actual = 6\n",
            "predicted = 0, actual = 0\n",
            "predicted = 1, actual = 2\n",
            "predicted = 0, actual = 4\n",
            "accuracy is = 40.0\n"
          ],
          "name": "stdout"
        }
      ]
    },
    {
      "cell_type": "markdown",
      "metadata": {
        "id": "2rm-RGTxxfax"
      },
      "source": [
        "###classification rate function "
      ]
    },
    {
      "cell_type": "code",
      "metadata": {
        "id": "r7Wpap62xldK"
      },
      "source": [
        "def classificationrate ( testset, predicted):\n",
        "    correct =0\n",
        "    for x in range(len(testset)):\n",
        "        if testset[x] == predicted[x]:\n",
        "            correct += 1\n",
        "        #print(repr(correct))\n",
        "        #print(len(testset))\n",
        "    return ((correct)/(len(testset))) "
      ],
      "execution_count": 13,
      "outputs": []
    },
    {
      "cell_type": "markdown",
      "metadata": {
        "id": "A2ltQbN8zKTj"
      },
      "source": [
        "###run_knn function"
      ]
    },
    {
      "cell_type": "code",
      "metadata": {
        "id": "N_sxYlqfzPZY",
        "colab": {
          "base_uri": "https://localhost:8080/",
          "height": 330
        },
        "outputId": "6df2ff73-1404-4bd8-9181-9a590bd8c12e"
      },
      "source": [
        "import matplotlib.pyplot as plt\n",
        "\n",
        "def run_knn(numberoftestcase, numberoftrain):\n",
        "    classification = [] \n",
        "    for k in [1,3,5,7,9]:\n",
        "        predicted = []\n",
        "        for x in range(601, 601+ numberoftestcase):\n",
        "            neighbour = getneighbours(train_X[0:numberoftrain], test_X[x], k)\n",
        "            result1 = result(neighbour)\n",
        "            predicted.append(result1)\n",
        "        classificationrate1 = classificationrate(test_y[601:601+numberoftestcase], predicted)\n",
        "        classification.append(classificationrate1)\n",
        "    plt.plot([1,3,5,7,9], classification)\n",
        "    plt.xlabel('K_VALUES') \n",
        "    plt.ylabel('CLASSIFICATION_RATE')  \n",
        "    plt.title('K_VALUES VS CLASSIFICATION_RATE') \n",
        "    return classification \n",
        "number_of_train = 600\n",
        "for i in [number_of_train]:\n",
        "    run_knn(20,i)\n"
      ],
      "execution_count": 16,
      "outputs": [
        {
          "output_type": "stream",
          "text": [
            "/usr/local/lib/python3.7/dist-packages/ipykernel_launcher.py:7: RuntimeWarning: overflow encountered in ubyte_scalars\n",
            "  import sys\n"
          ],
          "name": "stderr"
        },
        {
          "output_type": "display_data",
          "data": {
            "image/png": "[encoded data removed]",
            "text/plain": [
              "<Figure size 432x288 with 1 Axes>"
            ]
          },
          "metadata": {
            "tags": [],
            "needs_background": "light"
          }
        }
      ]
    }
  ]
}